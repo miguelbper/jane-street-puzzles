{
 "cells": [
  {
   "cell_type": "code",
   "execution_count": 34,
   "metadata": {},
   "outputs": [],
   "source": [
    "import numpy as np\n",
    "import pandas as pd\n",
    "import js2204 as js"
   ]
  },
  {
   "cell_type": "code",
   "execution_count": 35,
   "metadata": {},
   "outputs": [],
   "source": [
    "# define a board\n",
    "(a, b, c, x) = (1, 6, 8, 13)\n",
    "grid = js.board_from_four(a, b, c, x)"
   ]
  },
  {
   "cell_type": "code",
   "execution_count": 36,
   "metadata": {},
   "outputs": [],
   "source": [
    "# compute r, u, l, b squares\n",
    "sq_right  = js.square_right(grid)\n",
    "sq_up     = js.square_up(grid)    \n",
    "sq_left   = js.square_left(grid)  \n",
    "sq_bottom = js.square_bottom(grid)"
   ]
  }
 ],
 "metadata": {
  "interpreter": {
   "hash": "95a78dd07ead7c9d4190c7e29f7bc70f20502d7bf0077af0490d5bf4f04483f2"
  },
  "kernelspec": {
   "display_name": "Python 3.9.7 ('base')",
   "language": "python",
   "name": "python3"
  },
  "language_info": {
   "codemirror_mode": {
    "name": "ipython",
    "version": 3
   },
   "file_extension": ".py",
   "mimetype": "text/x-python",
   "name": "python",
   "nbconvert_exporter": "python",
   "pygments_lexer": "ipython3",
   "version": "3.9.7"
  },
  "orig_nbformat": 4
 },
 "nbformat": 4,
 "nbformat_minor": 2
}
