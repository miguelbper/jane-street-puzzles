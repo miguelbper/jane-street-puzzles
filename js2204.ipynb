{
 "cells": [
  {
   "cell_type": "code",
   "execution_count": 1,
   "metadata": {},
   "outputs": [],
   "source": [
    "import numpy as np\n",
    "import pandas as pd\n",
    "from itertools import permutations\n",
    "from tqdm import tqdm\n",
    "from functools import partial\n",
    "from operator import add\n",
    "from js2204 import *"
   ]
  },
  {
   "cell_type": "markdown",
   "metadata": {},
   "source": [
    "# Compute the best grids"
   ]
  },
  {
   "cell_type": "markdown",
   "metadata": {},
   "source": [
    "## magic grid"
   ]
  },
  {
   "cell_type": "code",
   "execution_count": null,
   "metadata": {},
   "outputs": [],
   "source": [
    "grid = lowest_sum_grid(0, 60)\n",
    "print(test_results(grid))"
   ]
  },
  {
   "cell_type": "markdown",
   "metadata": {},
   "source": [
    "## almost magic, div 2"
   ]
  },
  {
   "cell_type": "code",
   "execution_count": null,
   "metadata": {},
   "outputs": [],
   "source": [
    "grid = lowest_sum_grid_divide(0, 2, 85)\n",
    "print(test_results(grid))"
   ]
  },
  {
   "cell_type": "markdown",
   "metadata": {},
   "source": [
    "## almost magic, div 2 alt"
   ]
  },
  {
   "cell_type": "code",
   "execution_count": null,
   "metadata": {},
   "outputs": [],
   "source": [
    "grid = lowest_sum_grid_divide_alt(0, 2, 85)\n",
    "print(test_results(grid))"
   ]
  },
  {
   "cell_type": "markdown",
   "metadata": {},
   "source": [
    "# Compute the best grids (1 substitution necessary)"
   ]
  },
  {
   "cell_type": "markdown",
   "metadata": {},
   "source": [
    "## magic grid"
   ]
  },
  {
   "cell_type": "code",
   "execution_count": null,
   "metadata": {},
   "outputs": [],
   "source": [
    "grid = lowest_sum_grid(1, 60)\n",
    "print(test_results(grid))"
   ]
  },
  {
   "cell_type": "code",
   "execution_count": null,
   "metadata": {},
   "outputs": [],
   "source": [
    "# 78328it [00:09, 8065.77it/s] \n",
    "# magic square = \n",
    "\n",
    "# None   33  4 41 None None\n",
    "# None   34 26 18    1   23\n",
    "#   31   11 48 19   14    9\n",
    "#   47   30 13  5   27   10\n",
    "#   12   49 29 15    1 None\n",
    "# None None  3 25   17 None\n",
    "\n",
    "\n",
    "# sum = 595\n",
    "\n",
    "\n",
    "# sorted flattened array = [1, 1, 3, 4, 5, 9, 10, 11, 12, 13, 14, 15, 17, 18, 19, 23, 25, 26, 27, 29, 30, 31, 33, 34, 41, 47, 48, 49]\n",
    "# sum of sorted flattened array = 595\n",
    "# length of sorted flattened array = 28\n",
    "\n",
    "''' need to change one of the 1 to a 2. the square is magic so this works for sure '''"
   ]
  },
  {
   "cell_type": "markdown",
   "metadata": {},
   "source": [
    "## almost magic, div 2"
   ]
  },
  {
   "cell_type": "code",
   "execution_count": null,
   "metadata": {},
   "outputs": [],
   "source": [
    "grid = lowest_sum_grid_divide(1, 2, 85)\n",
    "print(test_results(grid))"
   ]
  },
  {
   "cell_type": "code",
   "execution_count": null,
   "metadata": {},
   "outputs": [],
   "source": [
    "# 331469it [00:46, 7109.57it/s]\n",
    "# magic square = \n",
    "\n",
    "# None   13 29 16 None None\n",
    "# None   22 19 17    2   27\n",
    "#   30   23 10 25   15    5\n",
    "#    1   21 41  4   28   14\n",
    "#   32   19 12 24   37 None\n",
    "# None None 20 45    8 None\n",
    "\n",
    "\n",
    "# sum = 559\n",
    "\n",
    "\n",
    "# sorted flattened array = [1, 2, 4, 5, 8, 10, 12, 13, 14, 15, 16, 17, 19, 19, 20, 21, 22, 23, 24, 25, 27, 28, 29, 30, 32, 37, 41, 45]\n",
    "# sum of sorted flattened array = 559\n",
    "# length of sorted flattened array = 28\n",
    "\n",
    "''' need to change one of the 19 to an 18 '''"
   ]
  },
  {
   "cell_type": "markdown",
   "metadata": {},
   "source": [
    "## almost magic, div 2 alt"
   ]
  },
  {
   "cell_type": "code",
   "execution_count": null,
   "metadata": {},
   "outputs": [],
   "source": [
    "grid = lowest_sum_grid_divide_alt(1, 2, 85)\n",
    "print(test_results(grid))"
   ]
  },
  {
   "cell_type": "code",
   "execution_count": null,
   "metadata": {},
   "outputs": [],
   "source": [
    "# 219133it [00:25, 8241.64it/s]\n",
    "# magic square = \n",
    "\n",
    "# None   29  4 36 None None\n",
    "# None   30 23 16    1   21\n",
    "#   28   10 42 17   13    8\n",
    "#   41   27 12  5   24    9\n",
    "#   11   43 26 14    2 None\n",
    "# None None  3 23   15 None\n",
    "\n",
    "\n",
    "# sum = 533\n",
    "\n",
    "\n",
    "# sorted flattened array = [1, 2, 3, 4, 5, 8, 9, 10, 11, 12, 13, 14, 15, 16, 17, 21, 23, 23, 24, 26, 27, 28, 29, 30, 36, 41, 42, 43]\n",
    "# sum of sorted flattened array = 533\n",
    "# length of sorted flattened array = 28\n",
    "\n",
    "''' need to change one of the 23 to a 22 '''"
   ]
  },
  {
   "cell_type": "code",
   "execution_count": 2,
   "metadata": {},
   "outputs": [
    {
     "name": "stdout",
     "output_type": "stream",
     "text": [
      "magic square = \n",
      "None   29  4 36 None None\n",
      "None   30 22 16    1   21\n",
      "  28   10 42 17   13    8\n",
      "  41   27 12  5   24    9\n",
      "  11   43 26 14    2 None\n",
      "None None  3 23   15 None\n",
      "\n",
      "sum = 532\n",
      "is almost magic = True\n",
      "no duplicates = True\n",
      "only positive numbers = True\n",
      "\n",
      "sorted flattened array = [1, 2, 3, 4, 5, 8, 9, 10, 11, 12, 13, 14, 15, 16, 17, 21, 22, 23, 24, 26, 27, 28, 29, 30, 36, 41, 42, 43]\n",
      "sum of sorted flattened array = 532\n",
      "length sorted flattened array = 28\n",
      "\n",
      "list to submit = [29, 4, 36, 30, 22, 16, 1, 21, 28, 10, 42, 17, 13, 8, 41, 27, 12, 5, 24, 9, 11, 43, 26, 14, 2, 3, 23, 15]\n"
     ]
    }
   ],
   "source": [
    "# change the top 23 to a 22\n",
    "\n",
    "grid = np.array([\n",
    "    [None,   29,  4, 36, None, None],\n",
    "    [None,   30, 22, 16,    1,   21],\n",
    "    [  28,   10, 42, 17,   13,    8],\n",
    "    [  41,   27, 12,  5,   24,    9],\n",
    "    [  11,   43, 26, 14,    2, None],\n",
    "    [None, None,  3, 23,   15, None]\n",
    "])\n",
    "\n",
    "print(test_results(grid))"
   ]
  },
  {
   "cell_type": "markdown",
   "metadata": {},
   "source": [
    "# Compute the best grids (2 substitutions necessary)"
   ]
  },
  {
   "cell_type": "markdown",
   "metadata": {},
   "source": [
    "## magic grid"
   ]
  },
  {
   "cell_type": "code",
   "execution_count": null,
   "metadata": {},
   "outputs": [],
   "source": [
    "grid = lowest_sum_grid(2, 60)\n",
    "print(test_results(grid))"
   ]
  },
  {
   "cell_type": "code",
   "execution_count": null,
   "metadata": {},
   "outputs": [],
   "source": [
    "# 78328it [00:09, 8170.00it/s] \n",
    "# magic square = \n",
    "\n",
    "# None   27  5 34 None None\n",
    "# None   29 22 15    1   20\n",
    "#   26   10 39 17   12    7\n",
    "#   38   25 12  4   23    9\n",
    "#   11   40 24 13    2 None\n",
    "# None None  3 22   14 None\n",
    "\n",
    "\n",
    "# sum = 504\n",
    "\n",
    "\n",
    "# sorted flattened array = [1, 2, 3, 4, 5, 7, 9, 10, 11, 12, 12, 13, 14, 15, 17, 20, 22, 22, 23, 24, 25, 26, 27, 29, 34, 38, 39, 40]\n",
    "# sum of sorted flattened array = 504\n",
    "# length of sorted flattened array = 28\n",
    "\n",
    "''' doesnt work because of 11, 12, 12, 13 '''"
   ]
  },
  {
   "cell_type": "markdown",
   "metadata": {},
   "source": [
    "## almost magic, div 2"
   ]
  },
  {
   "cell_type": "code",
   "execution_count": null,
   "metadata": {},
   "outputs": [],
   "source": [
    "grid = lowest_sum_grid_divide(2, 2, 85)\n",
    "print(test_results(grid))"
   ]
  },
  {
   "cell_type": "code",
   "execution_count": null,
   "metadata": {},
   "outputs": [],
   "source": [
    "# 331469it [00:46, 7202.29it/s]\n",
    "# magic square = \n",
    "\n",
    "# None   26  2 30 None None\n",
    "# None   24 19 15    1   17\n",
    "#   25    8 37 13   11    9\n",
    "#   35   23 11  5   21    7\n",
    "#   10   38 22 12    3 None\n",
    "# None None  4 20   13 None\n",
    "\n",
    "\n",
    "# sum = 461\n",
    "\n",
    "\n",
    "# sorted flattened array = [1, 2, 3, 4, 5, 7, 8, 9, 10, 11, 11, 12, 13, 13, 15, 17, 19, 20, 21, 22, 23, 24, 25, 26, 30, 35, 37, 38]\n",
    "# sum of sorted flattened array = 461\n",
    "# length of sorted flattened array = 28\n",
    "\n",
    "''' doesnt work because of 10, 11, 11, 12 '''"
   ]
  },
  {
   "cell_type": "markdown",
   "metadata": {},
   "source": [
    "## almost magic, div 2 alt"
   ]
  },
  {
   "cell_type": "code",
   "execution_count": null,
   "metadata": {},
   "outputs": [],
   "source": [
    "grid = lowest_sum_grid_divide_alt(2, 2, 85)\n",
    "print(test_results(grid))"
   ]
  },
  {
   "cell_type": "code",
   "execution_count": null,
   "metadata": {},
   "outputs": [],
   "source": [
    "# 331469it [00:46, 7110.11it/s]\n",
    "# magic square = \n",
    "\n",
    "# None   26  2 30 None None\n",
    "# None   24 19 15    1   17\n",
    "#   25    8 37 13   11    9\n",
    "#   35   23 11  5   21    7\n",
    "#   10   38 22 12    3 None\n",
    "# None None  4 20   13 None\n",
    "\n",
    "\n",
    "# sum = 461\n",
    "\n",
    "\n",
    "# sorted flattened array = [1, 2, 3, 4, 5, 7, 8, 9, 10, 11, 11, 12, 13, 13, 15, 17, 19, 20, 21, 22, 23, 24, 25, 26, 30, 35, 37, 38]\n",
    "# sum of sorted flattened array = 461\n",
    "# length of sorted flattened array = 28\n",
    "\n",
    "''' doesnt work because of 10, 11, 11, 12 '''"
   ]
  }
 ],
 "metadata": {
  "interpreter": {
   "hash": "95a78dd07ead7c9d4190c7e29f7bc70f20502d7bf0077af0490d5bf4f04483f2"
  },
  "kernelspec": {
   "display_name": "Python 3.9.7 ('base')",
   "language": "python",
   "name": "python3"
  },
  "language_info": {
   "codemirror_mode": {
    "name": "ipython",
    "version": 3
   },
   "file_extension": ".py",
   "mimetype": "text/x-python",
   "name": "python",
   "nbconvert_exporter": "python",
   "pygments_lexer": "ipython3",
   "version": "3.9.7"
  },
  "orig_nbformat": 4
 },
 "nbformat": 4,
 "nbformat_minor": 2
}
