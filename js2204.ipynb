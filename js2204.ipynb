{
 "cells": [
  {
   "cell_type": "code",
   "execution_count": null,
   "metadata": {},
   "outputs": [],
   "source": [
    "import numpy as np\n",
    "import pandas as pd\n",
    "from itertools import permutations\n",
    "from tqdm import tqdm\n",
    "from functools import partial\n",
    "from operator import add\n",
    "from js2204 import *"
   ]
  },
  {
   "cell_type": "markdown",
   "metadata": {},
   "source": [
    "# Tests for later"
   ]
  },
  {
   "cell_type": "code",
   "execution_count": null,
   "metadata": {},
   "outputs": [],
   "source": [
    "\n",
    "# grid_r = square_right(final_grid)\n",
    "# grid_u = square_up(final_grid)\n",
    "# grid_l = square_left(final_grid)\n",
    "# grid_b = square_bottom(final_grid)\n",
    "\n",
    "# sqq = [grid_r, grid_u, grid_l, grid_b]\n",
    "# nqq = ['grid_right', 'grid_up', 'grid_left', 'grid_bottom']\n",
    "\n",
    "# for i in range(0,4):\n",
    "#     print('s({}) = {}'.format(nqq[i], sqq[i].trace()))\n",
    "#     print('is_magic_square({}) = {}'.format(nqq[i], is_magic_square(sqq[i])))\n",
    "#     print('{} = \\n\\n{}\\n\\n'.format(nqq[i], pd.DataFrame(sqq[i]).to_string(header=False, index=False)))\n",
    "\n",
    "# # Converts the result to be submitted\n",
    "# print('list for submission = {}'.format(list(final_grid[final_grid!=None])))"
   ]
  },
  {
   "cell_type": "markdown",
   "metadata": {},
   "source": [
    "# Compute the best grids"
   ]
  },
  {
   "cell_type": "markdown",
   "metadata": {},
   "source": [
    "## magic grid"
   ]
  },
  {
   "cell_type": "code",
   "execution_count": null,
   "metadata": {},
   "outputs": [],
   "source": [
    "final_grid = lowest_sum_grid(85)\n",
    "final_sum = sum_of(final_grid)\n",
    "\n",
    "print('\\nmagic square = \\n\\n{}\\n'.format(pd.DataFrame(final_grid).to_string(header=False, index=False)))\n",
    "print('\\nsum = {}\\n'.format(final_sum))\n",
    "print('\\nsorted flattened array = {}'.format(sorted_list(final_grid)))\n",
    "print('sum of sorted flattened array = {}'.format(sum(sorted_list(final_grid))))\n",
    "print('length of sorted flattened array = {}\\n'.format(len(sorted_list(final_grid))))"
   ]
  },
  {
   "cell_type": "markdown",
   "metadata": {},
   "source": [
    "## almost magic, div 2"
   ]
  },
  {
   "cell_type": "code",
   "execution_count": null,
   "metadata": {},
   "outputs": [],
   "source": [
    "final_grid_2 = lowest_sum_grid_divide(2, 85)\n",
    "final_sum_2 = sum_of(final_grid_2)\n",
    "\n",
    "print('\\nmagic square = \\n\\n{}\\n'.format(pd.DataFrame(final_grid_2).to_string(header=False, index=False)))\n",
    "print('\\nsum = {}\\n'.format(final_sum_2))\n",
    "print('\\nsorted flattened array = {}'.format(sorted_list(final_grid_2)))\n",
    "print('sum of sorted flattened array = {}'.format(sum(sorted_list(final_grid_2))))\n",
    "print('length of sorted flattened array = {}\\n'.format(len(sorted_list(final_grid_2))))"
   ]
  },
  {
   "cell_type": "markdown",
   "metadata": {},
   "source": [
    "## almost magic, div 2 alt"
   ]
  },
  {
   "cell_type": "code",
   "execution_count": null,
   "metadata": {},
   "outputs": [],
   "source": [
    "final_grid_3 = lowest_sum_grid_divide_alt(2, 85)\n",
    "final_sum_3 = sum_of(final_grid_3)\n",
    "\n",
    "print('\\nmagic square = \\n\\n{}\\n'.format(pd.DataFrame(final_grid_3).to_string(header=False, index=False)))\n",
    "print('\\nsum = {}\\n'.format(final_sum_3))\n",
    "print('\\nsorted flattened array = {}'.format(sorted_list(final_grid_3)))\n",
    "print('sum of sorted flattened array = {}'.format(sum(sorted_list(final_grid_3))))\n",
    "print('length of sorted flattened array = {}\\n'.format(len(sorted_list(final_grid_3))))"
   ]
  }
 ],
 "metadata": {
  "interpreter": {
   "hash": "95a78dd07ead7c9d4190c7e29f7bc70f20502d7bf0077af0490d5bf4f04483f2"
  },
  "kernelspec": {
   "display_name": "Python 3.9.7 ('base')",
   "language": "python",
   "name": "python3"
  },
  "language_info": {
   "codemirror_mode": {
    "name": "ipython",
    "version": 3
   },
   "file_extension": ".py",
   "mimetype": "text/x-python",
   "name": "python",
   "nbconvert_exporter": "python",
   "pygments_lexer": "ipython3",
   "version": "3.9.7"
  },
  "orig_nbformat": 4
 },
 "nbformat": 4,
 "nbformat_minor": 2
}
